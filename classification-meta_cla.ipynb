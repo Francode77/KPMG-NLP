{
 "cells": [
  {
   "cell_type": "code",
   "execution_count": 35,
   "metadata": {},
   "outputs": [],
   "source": [
    "# Import pandas\n",
    "import pandas as pd\n",
    " \n",
    "# reading csv file\n",
    "df=pd.read_csv(\"../KPMG/data/CLA_meta_from_2018.csv\") "
   ]
  },
  {
   "cell_type": "code",
   "execution_count": 36,
   "metadata": {},
   "outputs": [
    {
     "name": "stdout",
     "output_type": "stream",
     "text": [
      "['de', 'en', 'van', 'ik', 'te', 'dat', 'die', 'in', 'een', 'hij', 'het', 'niet', 'zijn', 'is', 'was', 'op', 'aan', 'met', 'als', 'voor', 'had', 'er', 'maar', 'om', 'hem', 'dan', 'zou', 'of', 'wat', 'mijn', 'men', 'dit', 'zo', 'door', 'over', 'ze', 'zich', 'bij', 'ook', 'tot', 'je', 'mij', 'uit', 'der', 'daar', 'haar', 'naar', 'heb', 'hoe', 'heeft', 'hebben', 'deze', 'u', 'want', 'nog', 'zal', 'me', 'zij', 'nu', 'ge', 'geen', 'omdat', 'iets', 'worden', 'toch', 'al', 'waren', 'veel', 'meer', 'doen', 'toen', 'moet', 'ben', 'zonder', 'kan', 'hun', 'dus', 'alles', 'onder', 'ja', 'eens', 'hier', 'wie', 'werd', 'altijd', 'doch', 'wordt', 'wezen', 'kunnen', 'ons', 'zelf', 'tegen', 'na', 'reeds', 'wil', 'kon', 'niets', 'uw', 'iemand', 'geweest', 'andere', 'waarvoor', 'wegens', 'sommige', 'betreffende']\n"
     ]
    }
   ],
   "source": [
    "\n",
    "from nltk.corpus import stopwords\n",
    "stopwords = stopwords.words('dutch')\n",
    "\n",
    "custom_stopwords=['waarvoor','wegens','sommige','betreffende']\n",
    "stopwords.extend(custom_stopwords)\n",
    "print (stopwords)"
   ]
  },
  {
   "cell_type": "code",
   "execution_count": 39,
   "metadata": {},
   "outputs": [
    {
     "name": "stderr",
     "output_type": "stream",
     "text": [
      "C:\\Users\\Theranet\\becode\\BERT\\lib\\site-packages\\ipykernel_launcher.py:15: SettingWithCopyWarning: \n",
      "A value is trying to be set on a copy of a slice from a DataFrame\n",
      "\n",
      "See the caveats in the documentation: https://pandas.pydata.org/pandas-docs/stable/user_guide/indexing.html#returning-a-view-versus-a-copy\n",
      "  from ipykernel import kernelapp as app\n",
      "C:\\Users\\Theranet\\becode\\BERT\\lib\\site-packages\\ipykernel_launcher.py:31: SettingWithCopyWarning: \n",
      "A value is trying to be set on a copy of a slice from a DataFrame\n",
      "\n",
      "See the caveats in the documentation: https://pandas.pydata.org/pandas-docs/stable/user_guide/indexing.html#returning-a-view-versus-a-copy\n",
      "C:\\Users\\Theranet\\becode\\BERT\\lib\\site-packages\\ipykernel_launcher.py:46: SettingWithCopyWarning: \n",
      "A value is trying to be set on a copy of a slice from a DataFrame\n",
      "\n",
      "See the caveats in the documentation: https://pandas.pydata.org/pandas-docs/stable/user_guide/indexing.html#returning-a-view-versus-a-copy\n",
      "C:\\Users\\Theranet\\becode\\BERT\\lib\\site-packages\\ipykernel_launcher.py:59: SettingWithCopyWarning: \n",
      "A value is trying to be set on a copy of a slice from a DataFrame\n",
      "\n",
      "See the caveats in the documentation: https://pandas.pydata.org/pandas-docs/stable/user_guide/indexing.html#returning-a-view-versus-a-copy\n"
     ]
    }
   ],
   "source": [
    "# DUTCH KEYWORD EXTRACTION for CLA metadata\n",
    "from rake_nltk import Metric, Rake\n",
    "rake_nltk_var = Rake(language='dutch',stopwords=stopwords,include_repeated_phrases=False,ranking_metric=Metric.WORD_DEGREE)\n",
    "import re\n",
    "\n",
    "# TITLE NL KEYWORDS\n",
    "df['title_nl_keywords']=0\n",
    "for x in range (len(df)):\n",
    "        \n",
    "    text=df['cla_title_nl'][x] \n",
    "    text = re.sub(\"\\)\\.\",\"\",text)\n",
    "    rake_nltk_var.extract_keywords_from_text(text)\n",
    "    keyword_extracted = rake_nltk_var.get_ranked_phrases()\n",
    "\n",
    "    df['title_nl_keywords'][x]=keyword_extracted\n",
    "    \n",
    "# THEMES NL KEYWORDS\n",
    "df['themes_nl_keywords']=0\n",
    "for x in range (len(df)):    \n",
    "    text=df['themes_nl'][x] \n",
    "    # Check if value is filled\n",
    "    if pd.isnull(df['themes_nl'][x])!=True:\n",
    "        text = re.sub(\"\\)\\\\\\\\\",\"\",text)\n",
    "        text = re.sub(\"\\)\\.\",\"\",text)\n",
    "        text = re.sub(\" \\)\",\"\",text)\n",
    "        rake_nltk_var.extract_keywords_from_text(text)\n",
    "        keyword_extracted = rake_nltk_var.get_ranked_phrases()\n",
    "        \n",
    "        df['themes_nl_keywords'][x]=keyword_extracted\n",
    "    else:\n",
    "         df['themes_nl_keywords'][x]=''\n",
    "\n",
    "# SCOPE NL KEYWORDS\n",
    "df['scope_nl_keywords']=0\n",
    "for x in range (len(df)):    \n",
    "    text=df['scope_nl'][x] \n",
    "    # Check if value is filled\n",
    "    if pd.isnull(df['scope_nl'][x])!=True:\n",
    "        text = re.sub(\"\\)\\\\\\\\\",\"\",text)\n",
    "        text = re.sub(\"\\)\\.\",\"\",text)\n",
    "        rake_nltk_var.extract_keywords_from_text(text)\n",
    "        keyword_extracted = rake_nltk_var.get_ranked_phrases()\n",
    "\n",
    "        df['scope_nl_keywords'][x]=keyword_extracted\n",
    "    else:\n",
    "         df['scope_nl_keywords'][x]=''\n",
    "         \n",
    "# SCOPE NL KEYWORDS\n",
    "df['no_scope_nl_keywords']=0\n",
    "for x in range (len(df)):    \n",
    "    text=df['no_scope_nl'][x] \n",
    "    # Check if value is filled\n",
    "    if pd.isnull(df['no_scope_nl'][x])!=True:\n",
    "        text = re.sub(\"\\)\\\\\\\\\",\"\",text)\n",
    "        text = re.sub(\"\\)\\.\",\"\",text)\n",
    "        rake_nltk_var.extract_keywords_from_text(text)\n",
    "        keyword_extracted = rake_nltk_var.get_ranked_phrases()\n",
    "\n",
    "        df['no_scope_nl_keywords'][x]=keyword_extracted\n",
    "    else:\n",
    "         df['no_scope_nl_keywords'][x]=''"
   ]
  },
  {
   "cell_type": "code",
   "execution_count": 40,
   "metadata": {},
   "outputs": [
    {
     "name": "stdout",
     "output_type": "stream",
     "text": [
      "0                                                       \n",
      "1      [reële lonen, sociale vrede, lonen, minimumuur...\n",
      "2          [werkloosheid, swt, stelsel, bedrijfstoeslag]\n",
      "3      [swt ), tijdskrediet, tijdskrediet, oudere wer...\n",
      "4           [quotum, overuren, arbeidsduurflexibiliteit]\n",
      "                             ...                        \n",
      "215    [werking paritair comité, risicogroepen, fonds...\n",
      "216    [werkloosheid, swtstelsel, swt, stelsel, bedri...\n",
      "217                         [fondsen, bestaanszekerheid]\n",
      "218    [alle premies, actieve werknemer, ziekte, werk...\n",
      "219                        [ziekte, overlijden, ongeval]\n",
      "Name: themes_nl_keywords, Length: 220, dtype: object\n"
     ]
    }
   ],
   "source": [
    "print (df['themes_nl_keywords'][00:220])"
   ]
  },
  {
   "cell_type": "code",
   "execution_count": null,
   "metadata": {},
   "outputs": [],
   "source": [
    "rake_nltk_var = Rake(language='french',include_repeated_phrases=False)\n",
    "\n",
    "# TITLE FR KEYWORDS\n",
    "df['cla_title_fr_keywords']=0\n",
    "for x in range (len(df)):\n",
    "        \n",
    "    text=df['cla_title_fr'][x]  \n",
    "    rake_nltk_var.extract_keywords_from_text(text)\n",
    "    keyword_extracted = rake_nltk_var.get_ranked_phrases()\n",
    "\n",
    "    text=str(keyword_extracted)\n",
    "    text = re.sub(\"\\\\\\\\x92 \",\"\",text) \n",
    "    text = re.sub(\"\\\\\\\\x9c \",\"oe\",text) # For ex 'oevre' \n",
    "        \n",
    "    df['cla_title_fr_keywords'][x]=text\n",
    "\n",
    "# THEMES FR KEYWORDS\n",
    "df['themes_fr_keywords']=0\n",
    "for x in range (len(df)):    \n",
    "    text=df['themes_fr'][x] \n",
    "    # Check if value is filled\n",
    "    if pd.isnull(df['themes_fr'][x])!=True:\n",
    "        text = re.sub(\"\\)\\\\\\\\\",\"\",text) \n",
    "        rake_nltk_var.extract_keywords_from_text(text)\n",
    "        keyword_extracted = rake_nltk_var.get_ranked_phrases()\n",
    "        text=str(keyword_extracted)\n",
    "        text = re.sub(\"\\\\\\\\x92 \",\"\",text) \n",
    "        text = re.sub(\"\\\\\\\\x9c \",\"oe\",text) # For ex 'oevre' \n",
    "        \n",
    "        df['themes_fr_keywords'][x]=text\n",
    "    else:\n",
    "         df['themes_fr_keywords'][x]=''\n",
    "\n",
    "# SCOPE FR KEYWORDS\n",
    "df['scope_fr_keywords']=0\n",
    "for x in range (len(df)):    \n",
    "    text=df['scope_fr'][x] \n",
    "    # Check if value is filled\n",
    "    if pd.isnull(df['scope_fr'][x])!=True:\n",
    "        text = re.sub(\"\\)\\\\\\\\\",\"\",text) \n",
    "        rake_nltk_var.extract_keywords_from_text(text)\n",
    "        keyword_extracted = rake_nltk_var.get_ranked_phrases()\n",
    "        text=str(keyword_extracted)\n",
    "        text = re.sub(\"\\\\\\\\x92 \",\"\",text) \n",
    "        text = re.sub(\"\\\\\\\\x9c \",\"oe\",text) # For ex 'oevre' \n",
    "        \n",
    "        df['scope_fr_keywords'][x]=text\n",
    "    else:\n",
    "         df['scope_fr_keywords'][x]=''\n",
    "\n",
    "# SCOPE FR KEYWORDS\n",
    "df['no_scope_fr_keywords']=0\n",
    "for x in range (len(df)):    \n",
    "    text=df['no_scope_fr'][x] \n",
    "    # Check if value is filled\n",
    "    if pd.isnull(df['no_scope_fr'][x])!=True:\n",
    "        text = re.sub(\"\\)\\\\\\\\\",\"\",text) \n",
    "        rake_nltk_var.extract_keywords_from_text(text)\n",
    "        keyword_extracted = rake_nltk_var.get_ranked_phrases()\n",
    "        text=str(keyword_extracted)\n",
    "        text = re.sub(\"\\\\\\\\x92 \",\"\",text) # replace apostrophe\n",
    "        text = re.sub(\"\\\\\\\\x9c \",\"oe\",text) # For ex 'oevre' \n",
    "\n",
    "        df['no_scope_fr_keywords'][x]=text\n",
    "    else:\n",
    "         df['no_scope_fr_keywords'][x]=''"
   ]
  },
  {
   "cell_type": "code",
   "execution_count": null,
   "metadata": {},
   "outputs": [],
   "source": [
    "df.to_csv('CLA_meta_keywords.csv', index=False) "
   ]
  }
 ],
 "metadata": {
  "kernelspec": {
   "display_name": "BERT",
   "language": "python",
   "name": "bert"
  },
  "orig_nbformat": 4,
  "vscode": {
   "interpreter": {
    "hash": "54a7e325ecc84fa625d8a3ed09038798785ca9ae88cae94e662f38988cc00c57"
   }
  }
 },
 "nbformat": 4,
 "nbformat_minor": 2
}

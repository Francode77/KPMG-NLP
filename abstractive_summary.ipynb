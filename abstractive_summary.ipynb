{
 "cells": [
  {
   "cell_type": "code",
   "execution_count": 1,
   "metadata": {},
   "outputs": [
    {
     "data": {
      "text/plain": [
       "'Paritair Comité voor de non-ferro metalen\\nCollectieve arbeidsovereenkomst van 5 juli 2019\\nTIJDSKREDIET,\\nLOOPBAANVERMINDERING EN\\nLANDINGSBANEN.\\narbeidsovereenkomst is\\nondernemingen die\\nComité voor de non-\\nferro metalen en op de werklieden die zij\\ntewerkstellen.\\nArtikel 1. Deze collectieve\\nvan toepassing op de\\nressorteren onder het Paritair\\nOnder \"werklieden\" wordt verstaan: de mannelijke\\nen vrouwelijke werklieden\\nArt. 2. Tijdskrediet met motief - halftijds en\\nvoltijds.\\n§ 1. Zorgmotieven\\nIn uitvoering van artikel 4 § 4 van de collectieve\\narbeidsovereenkomst nr. 103 van 27 juni 2012 tot\\ninvoering van een stelsel van tijdskrediet,\\nloopbaanvermindering en landingsbanen, hebben\\nde in artikel 1 bedoelde werklieden recht op 51\\nmaanden voltijds tijdskrediet of halftijdse\\nloopbaanvermindering zoals voorzien in artikel 4 §\\n1, a),a), \\nb)\\nen c) van de collectieve\\narbeidsovereenkomst nr. 103\\n§ 2. Motief opleiding\\nIn uitvoering van artikel 4 § 4 van de collectieve\\narbeidsovereenkomst nr. 103 van 27 juni 2012 tot\\ninvoering van een stelsel van tijdskrediet,\\nloopbaanvermindering en landingsbanen, hebben\\nde in artikel 1 bedoelde werklieden recht op 36\\nmaanden voltijds tijdskrediet of halftijdse\\nloopbaanvermindering zoals voorzien in artikel 4 §\\n2 van de collectieve arbeidsovereenkomst nr. 103.\\nArt. 3. Landingsbaan vanaf 50 jaar na 28 jaar\\nloopbaan.\\nIn uitvoering van artikel 8 § 3 van de collectieve\\narbeidsovereenkomst nr. 103 van 27 juni 2012 tot\\ninvoering van een stelsel van tijdskrediet,\\nloopbaanvermindering en landingsbanen, hebben\\nde in artikel 1 bedoelde werklieden van minstens\\n50 jaar en die een beroepsloopbaan van 28 jaar\\ndoorlopen hebben, recht op een vermindering van\\nde arbeidsprestaties met 1/5.\\nArt. 4. Landingsbaan vanaf 55 jaar lange\\nloopbaan of zwaar beroep\\n§ 1. In toepassing van artikel 3 van de collectieve\\narbeidsovereenkomst nr. 137 van de NAR van 23\\napril 2019 wordt de leeftijd voor de periode 2019-\\n2020 op 55 jaar gebracht voor de werklieden die in\\ntoepassing van artikel 8 § 1 van de voornoemde\\ncollectieve arbeidsovereenkomst nr. 103 van 27\\njuni 2012 hun arbeidsprestaties verminderen met\\n1/5 en die voldoen aan de voorwaarden zoals\\nbepaald in artikel 6 § 5 van het Koninklijk besluit\\nvan 12 december 2001 zoals gewijzigd door artikel\\n4 van het Koninklijk besluit van 30 december\\n2014.\\n§ 2. In toepassing van artikel 3 van de collectieve\\narbeidsovereenkomst nr. 137 van de NAR van 23\\napril 2019 wordt de leeftijd voor de periode 2019-\\n2020 op 57 jaar gebracht voor de werklieden die in\\ntoepassing van artikel 8 § 1 van de voornoemde\\ncollectieve arbeidsovereenkomst nr. 103 van 27\\njuni 2012 hun arbeidsprestaties verminderen tot\\neen halftijdse betrekking en die voldoen aan de\\nvoorwaarden zoals bepaald in artikel 6 § 5 van het\\nKoninklijk besluit van 12 december 2001 zoals\\ngewijzigd door artikel 4 van het Koninklijk besluit\\nvan 30 december 2014.\\nDeze bepaling geldt enkel voor wat betreft het\\nrecht op uitkeringen en doet geen afbreuk aan het\\nrecht op het verminderen van de arbeidsprestaties\\ntot een halftijdse betrekking of het verminderen\\nervan met 1/5 in toepassing van artikel 8 § 1 van de\\nvoornoemde collectieve arbeidsovereenkomst nr.\\n103 van 27 juni 2012.\\nArt. 5. Drempel\\n§ 1. In toepassing van artikel 16 van de\\nhogervermelde collectieve arbeidsovereenkomst nr.\\n103 wordt de drempel inzake het gelijktijdig\\nuitoefenen van het recht op voltijds tijdskrediet,\\nhalftijdse of 1/5e loopbaanvermindering vastgelegd\\nop 5%, geteld in koppen, van de werklieden\\novereenkomstig de bepalingen van de collectieve\\narbeidsovereenkomst nr. 103.\\n§ 2. Onverminderd de bestaande collectieve\\narbeidsovereenkomsten op ondernemingsvlak kan\\ndeze drempel op ondernemingsvlak bij collectieve\\narbeidsovereenkomst worden verhoogd tot\\nmaximum 4%, berekend in voltijdse equivalenten,\\nvan het aantal werklieden tewerkgesteld in de\\nonderneming of de dienst zoals bedoeld in artikel\\n16 § 2 van de collectieve arbeidsovereenkomst nr.\\n103 op 30 juni van het jaar voorafgaand aan het\\njaar tijdens hetwelk de rechten gelijktijdig worden\\nuitgeoefend.\\nDeze collectieve arbeidsovereenkomst op\\nondernemingsvlak dient minimaal volgende 4\\nelementen te regelen:\\nBerekeningswijze van de drempel in\\nvoltijdse equivalenten;\\nDe voorwaarden van de toegang tot dit\\nuitgebreid recht;\\nDe modaliteiten van aanvraag en\\nrangordening ervan;\\nDe categorieën van werklieden op dewelke\\nde bedoelde regeling van toepassing is.\\n§ 3. Voor de berekening van de drempel\\novereenkomstig § 1 en § 2 van huidig artikel\\nworden de werknemers van 55 jaar of ouder die\\neen 1/5e loopbaanvermindering uitoefenen of\\nhebben aangevraagd op grond van de artikelen 3, 4\\nen 8 van collectieve arbeidsovereenkomst nr. 103\\nof ingevolge de artikelen 6 en 9 van de collectieve\\narbeidsovereenkomst nr. 77bis, niet in aanmerking\\ngenomen overeenkomstig de bepalingen van artikel\\n16 § 1, § 3 en § 6 van de collectieve\\narbeidsovereenkomst nr. 103.\\n§ 4. Op ondernemingsvlak is ter zake geen verdere\\nafwijking mogelijk.\\nArt. 6. Herstructurering.\\n§ 1. Voor ondernemingen in herstructurering kan,\\nmet het oog op het vermijden of beperken van\\nontslagen, uitzonderlijk en na goedkeuring door het\\nParitair\\ncomité,\\nbij\\ncollectieve\\nondernemingsvlak,\\nop\\nafgeweken worden van de drempel zoals bepaald\\nin artikel 5, met uitzondering van artikel 3, § 3, dat\\nook in geval van herstructurering van kracht blijft.\\narbeidsovereenkomst\\nin\\n§ 2. Onder \"ondernemingen in herstructurering\"\\nwordt verstaan; de ondernemingen\\nherstructurering zoals bepaald overeenkomstig de\\nbepalingen van de reglementering betreffende het\\nstelsel van werkloosheid met bedrijfstoeslag.\\nArt. 7. Organisatieregels loopbaanvermindering\\nmet 1/5.\\n§ 1. Overeenkomstig artikel 4 § 5, 3) en 8 § 1, 1)\\nvan de collectieve arbeidsovereenkomst nr. 103\\nwordt het recht op 1/5e loopbaanvermindering\\nuitgeoefend ten belope van 1 dag per week of 2\\nhalve dagen per week.\\n§ 2. In toepassing van artikel 6 § 2 en 9 § 2 van de\\ncollectieve arbeidsovereenkomst nr. 103 kan voor\\nhet organiseren van het recht op 1/5e\\nloopbaanvermindering een andere gelijkwaardige\\nregeling over een periode van maximum 12\\nmaanden worden vastgesteld dan die ten belope\\nvan 1 dag of 2 halve dagen per week:\\nJ\\nBij collectieve arbeidsovereenkomst op\\nondernemingsvlak\\nen\\nvervolgens\\ngeïntegreerd in het arbeidsreglement;\\nOf ingeval er geen vakbondsafvaardiging in\\nde onderneming aanwezig is, bij\\narbeidsreglement mits daarover een\\nwederzijds schriftelijk akkoord wordt\\ngesloten tussen werknemer en werkgever.\\nArt. 8. Organisatieregels 1/5e loopbaan-\\nvermindering voor werklieden tewerkgesteld in\\nploegen of cycli.\\n§ 1. Overeenkomstig artikel 6 § 1 en 9 § 1 van de\\ncollectieve arbeidsovereenkomst nr. 103 gelden\\nvoor de werklieden tewerkgesteld in ploegen of\\ncycli dezelfde regels als vervat in artikel 7 § 1 en §\\n2 van de huidige collectieve arbeidsovereenkomst.\\n§ 2. Wordt voor werklieden tewerkgesteld in\\nploegen of cycli een andere gelijkwaardige\\nregeling overeengekomen overeenkomstig artikel 7\\n§ 2 van de huidige collectieve\\narbeidsovereenkomst, dan moet de bestaande\\narbeidsorganisatie verder toegepast kunnen\\nworden.\\nDit impliceert dat de toepassing van de\\narbeidscycli\\nde ploegenstelsels\\nen\\nvan\\ngegarandeerd moet blijven.\\n§ 3. Voor werklieden tewerkgesteld in ploegen\\ndoet de mogelijkheid in een andere gelijkwaardige\\nregeling te voorzien overeenkomstig artikel 7 § 2\\nvan de huidige collectieve arbeidsovereenkomst\\ngeen afbreuk aan de akkoorden die hierover reeds\\nzijn gesloten.\\nArt. 9. Organiseerbaarheid\\nBij de uitoefening van het recht op tijdskrediet\\nroepen de sociale partners op om aandacht te\\nhebben voor de organiseerbaarheid binnen de\\nondernemingen.\\nArt. 10. Duur.\\nDeze collectieve arbeidsovereenkomst treedt in\\nwerking op 1 januari 2019 en treedt buiten werking\\nop 30 juni 2021 met uitzondering van artikel 4 dat\\nbuiten werking treedt op 31 december 2020.\\nJULIJULI \\n2019\\nSOCIAAL AKKOORD VAN 5\\nAANMOEDIGINGSPREMIES IN DE PRIVE-SECTOR\\nVLAAMSE REGERING VAN 1 MAART 2002\\nIn toepassing van het besluit van de Vlaamse reg\\naanmoedigingspremies in de privé sector van 1 maart\\nwerklieden ressorterend onder het Paritair Comité voor\\nGewest tot 30 juni 2021 gebruik kunnen maken va\\nzorgkrediet en het opleidingskrediet en van de aanmoed\\nin moeilijkheden of in herstructurering.\\nACCORD SOCIAL DU 5 JUILLET 2019\\nD\\'ENCOURAGEMENT AU SECTEUR PRIVI\\nGOUVERNEMENT FLAMAND DU 1er MARS 2002\\nEn application de l\\'arrêté du Gouvernement flamand po\\nau secteur privé du 1er mars 2002, les parties signa\\nCommission paritaire des métaux non ferreux et occ-\\njusqu\\'au 30 juin 2021, des primes d\\'encouragement dar\\nde la prime d\\'encouragement pour les travailleurs des er\\n'"
      ]
     },
     "execution_count": 1,
     "metadata": {},
     "output_type": "execute_result"
    }
   ],
   "source": [
    "with open(\"./processed_data/NL/NL_105-2019-010332.txt\") as f:\n",
    "    text = f.read()\n",
    "text"
   ]
  },
  {
   "cell_type": "code",
   "execution_count": 1,
   "metadata": {},
   "outputs": [
    {
     "name": "stderr",
     "output_type": "stream",
     "text": [
      "/home/sedat/Projects/KPMG-NLP/kpmg/lib/python3.10/site-packages/tqdm/auto.py:22: TqdmWarning: IProgress not found. Please update jupyter and ipywidgets. See https://ipywidgets.readthedocs.io/en/stable/user_install.html\n",
      "  from .autonotebook import tqdm as notebook_tqdm\n"
     ]
    },
    {
     "ename": "NameError",
     "evalue": "name 'text' is not defined",
     "output_type": "error",
     "traceback": [
      "\u001b[0;31m---------------------------------------------------------------------------\u001b[0m",
      "\u001b[0;31mNameError\u001b[0m                                 Traceback (most recent call last)",
      "Cell \u001b[0;32mIn[1], line 15\u001b[0m\n\u001b[1;32m      7\u001b[0m summarization_pipeline \u001b[39m=\u001b[39m transformers\u001b[39m.\u001b[39mpipeline(\n\u001b[1;32m      8\u001b[0m     task\u001b[39m=\u001b[39m\u001b[39m\"\u001b[39m\u001b[39msummarization\u001b[39m\u001b[39m\"\u001b[39m,\n\u001b[1;32m      9\u001b[0m     model\u001b[39m=\u001b[39mundisputed_best_model,\n\u001b[1;32m     10\u001b[0m     tokenizer\u001b[39m=\u001b[39mtokenizer,\n\u001b[1;32m     11\u001b[0m )\n\u001b[1;32m     12\u001b[0m summarization_pipeline\u001b[39m.\u001b[39mmodel\u001b[39m.\u001b[39mconfig\u001b[39m.\u001b[39mdecoder_start_token_id \u001b[39m=\u001b[39m tokenizer\u001b[39m.\u001b[39mlang_code_to_id[\n\u001b[1;32m     13\u001b[0m     \u001b[39m\"\u001b[39m\u001b[39mnl_XX\u001b[39m\u001b[39m\"\u001b[39m\n\u001b[1;32m     14\u001b[0m ]\n\u001b[0;32m---> 15\u001b[0m article \u001b[39m=\u001b[39m text  \u001b[39m# Dutch\u001b[39;00m\n\u001b[1;32m     16\u001b[0m summarization_pipeline(\n\u001b[1;32m     17\u001b[0m     article,\n\u001b[1;32m     18\u001b[0m     do_sample\u001b[39m=\u001b[39m\u001b[39mTrue\u001b[39;00m,\n\u001b[0;32m   (...)\u001b[0m\n\u001b[1;32m     24\u001b[0m     truncation\u001b[39m=\u001b[39m\u001b[39mTrue\u001b[39;00m,\n\u001b[1;32m     25\u001b[0m )[\u001b[39m0\u001b[39m][\u001b[39m\"\u001b[39m\u001b[39msummary_text\u001b[39m\u001b[39m\"\u001b[39m]\n",
      "\u001b[0;31mNameError\u001b[0m: name 'text' is not defined"
     ]
    }
   ],
   "source": [
    "import transformers\n",
    "\n",
    "undisputed_best_model = transformers.MBartForConditionalGeneration.from_pretrained(\n",
    "    \"ml6team/mbart-large-cc25-cnn-dailymail-nl-finetune\"\n",
    ")\n",
    "tokenizer = transformers.AutoTokenizer.from_pretrained(\"facebook/mbart-large-cc25\")\n",
    "summarization_pipeline = transformers.pipeline(\n",
    "    task=\"summarization\",\n",
    "    model=undisputed_best_model,\n",
    "    tokenizer=tokenizer,\n",
    ")\n",
    "summarization_pipeline.model.config.decoder_start_token_id = tokenizer.lang_code_to_id[\n",
    "    \"nl_XX\"\n",
    "]\n",
    "article = text  # Dutch\n",
    "summarization_pipeline(\n",
    "    article,\n",
    "    do_sample=True,\n",
    "    top_p=0.75,\n",
    "    top_k=50,\n",
    "    # num_beams=4,\n",
    "    min_length=100,\n",
    "    early_stopping=True,\n",
    "    truncation=True,\n",
    ")[0][\"summary_text\"]"
   ]
  }
 ],
 "metadata": {
  "kernelspec": {
   "display_name": "kpmg",
   "language": "python",
   "name": "python3"
  },
  "language_info": {
   "codemirror_mode": {
    "name": "ipython",
    "version": 3
   },
   "file_extension": ".py",
   "mimetype": "text/x-python",
   "name": "python",
   "nbconvert_exporter": "python",
   "pygments_lexer": "ipython3",
   "version": "3.10.6"
  },
  "orig_nbformat": 4,
  "vscode": {
   "interpreter": {
    "hash": "4da638ae617b673635fc85bede8239a246496b537a027ebfae526150a119a5ab"
   }
  }
 },
 "nbformat": 4,
 "nbformat_minor": 2
}

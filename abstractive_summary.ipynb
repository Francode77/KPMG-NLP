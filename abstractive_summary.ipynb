{
 "cells": [
  {
   "cell_type": "code",
   "execution_count": 7,
   "metadata": {},
   "outputs": [
    {
     "data": {
      "text/plain": [
       "'Aanvullend paritair comité voor de\\nwerklieden (PC 100)\\nCollectieve arbeidsovereenkomst van\\n13 november 2019 met betrekking tot de\\nvaststelling van risicogroepen\\nArtikel 1\\nDeze collectieve arbeidsovereenkomst is\\nvan toepassing op de werkgevers en op de\\narbeiders van de ondernemingen\\nressorterend onder de bevoegdheid van het\\nAanvullend Paritair Comité voor de\\nwerklieden. Onder \"arbeiders\" wordt\\nverstaan de mannelijke en vrouwelijke\\narbeiders\\nArtikel 2\\nIn uitvoering van artikelen 188 tot 191 van\\nde wet van 27 december 2006 houdende\\ndiverse bepalingen (I) (BS 29/12/2006) tot\\nbepaling van de risicogroepen, wordt onder\\nrisicogroepen verstaan:\\nArtikel 3\\nO\\nDe werknemers waarvan de\\nkwalificatie niet aangepast is\\nof dreigt te zijn aan de\\nvereisten van de nieuwe\\ntechnologieën, waarvan in\\nhet bijzonder de\\nlaaggeschoolden\\nDe werkzoekenden in het\\nalgemeen en\\nwerkzoekenden jonger dan\\n30 jaar in het bijzonder\\nDe werknemers bedreigd\\ndoor een herstructurering,\\neen collectief ontslag of een\\nsluiting van een\\nonderneming.\\nIn toepassing van het Koninklijk Besluit van\\n19 februari 2013 tot uitvoering van artikel\\n189, vierde lid, van de wet 27 december\\n2006 houdende diverse bepalingen (I) (1),\\nwordt onder risicogroepen met betrekking\\ntot het voorbehouden van 0,05% van de\\nloonmassa verstaan, de risicogroepen\\nbepaald in artikel 1 van hogervermeld\\nKoninklijk Besluit en wordt onder\\nrisicogroepen met betrekking tot het\\nvoorbehouden van de helft daarvan, of\\n0,025% van de loonmassa verstaan, de\\nrisicogroepen bedoeld in artikel 2 van\\nhogervermeld Koninklijk Besluit.\\nArtikel 4\\nDeze collectieve arbeidsovereenkomst\\ntreedt in werking op 1 januari 2020 en houdt\\nop van kracht te zijn op 31 december 2021\\n'"
      ]
     },
     "execution_count": 7,
     "metadata": {},
     "output_type": "execute_result"
    }
   ],
   "source": [
    "with open(\"./processed_data/NL/NL_100-2019-014376.txt\") as f:\n",
    "    text = f.read()\n",
    "text"
   ]
  },
  {
   "cell_type": "code",
   "execution_count": 5,
   "metadata": {},
   "outputs": [
    {
     "data": {
      "text/plain": [
       "'Het Paritair Comité voor de non-ferro metalen en de werklieden die zij tewerkstellen, heeft een collectieve arbeidsovereenkomst van 5 juli 2019 gesloten. De overeenkomst regelt, onder meer, het recht op 51 maanden voltijds tijdskrediet of halftijdse loopbaanvermindering zoals voorzien in artikel 4 § 1, a),a), b) en c) van de NAR van 23 april 2019, en het recht op een vermindering van de arbeidsprestaties tot een halftijdse betrekking.'"
      ]
     },
     "execution_count": 5,
     "metadata": {},
     "output_type": "execute_result"
    }
   ],
   "source": [
    "import transformers\n",
    "\n",
    "undisputed_best_model = transformers.MBartForConditionalGeneration.from_pretrained(\n",
    "    \"ml6team/mbart-large-cc25-cnn-dailymail-nl-finetune\"\n",
    ")\n",
    "tokenizer = transformers.AutoTokenizer.from_pretrained(\"facebook/mbart-large-cc25\")\n",
    "summarization_pipeline = transformers.pipeline(\n",
    "    task=\"summarization\",\n",
    "    model=undisputed_best_model,\n",
    "    tokenizer=tokenizer,\n",
    ")\n",
    "summarization_pipeline.model.config.decoder_start_token_id = tokenizer.lang_code_to_id[\n",
    "    \"nl_XX\"\n",
    "]\n"
   ]
  },
  {
   "cell_type": "code",
   "execution_count": 9,
   "metadata": {},
   "outputs": [],
   "source": [
    "summarization_pipeline.save_pretrained(\"summarizer\")"
   ]
  },
  {
   "cell_type": "code",
   "execution_count": 8,
   "metadata": {},
   "outputs": [
    {
     "name": "stderr",
     "output_type": "stream",
     "text": [
      "Your max_length is set to 1024, but you input_length is only 381. You might consider decreasing max_length manually, e.g. summarizer('...', max_length=190)\n"
     ]
    },
    {
     "data": {
      "text/plain": [
       "'De arbeidsovereenkomst tussen de werkgevers en de werknemers van de ondernemingen, die in het bezit zijn van een aanvullend Paritair Comité voor de werklieden (PC 100), is van kracht vanaf 1 januari 2020, met inbegrip van de werknemers die bedreigd zijn door een herstructurering, een collectief ontslag of een sluiting van een onderneming, wordt in werking gesteld op 31 december 2021, met inbegrip van de werknemers die bedreigd zijn door een herstructurering.'"
      ]
     },
     "execution_count": 8,
     "metadata": {},
     "output_type": "execute_result"
    }
   ],
   "source": [
    "article = text  # Dutch\n",
    "summarization_pipeline(\n",
    "    article,\n",
    "    do_sample=True,\n",
    "    top_p=0.75,\n",
    "    top_k=50,\n",
    "    # num_beams=4,\n",
    "    min_length=100,\n",
    "    early_stopping=True,\n",
    "    truncation=True,\n",
    ")[0][\"summary_text\"]"
   ]
  },
  {
   "cell_type": "code",
   "execution_count": 10,
   "metadata": {},
   "outputs": [
    {
     "name": "stderr",
     "output_type": "stream",
     "text": [
      "loading configuration file summarizer/config.json\n",
      "Model config MBartConfig {\n",
      "  \"_name_or_path\": \"summarizer\",\n",
      "  \"_num_labels\": 3,\n",
      "  \"activation_dropout\": 0.0,\n",
      "  \"activation_function\": \"gelu\",\n",
      "  \"add_bias_logits\": false,\n",
      "  \"add_final_layer_norm\": true,\n",
      "  \"architectures\": [\n",
      "    \"MBartForConditionalGeneration\"\n",
      "  ],\n",
      "  \"attention_dropout\": 0.0,\n",
      "  \"bos_token_id\": 0,\n",
      "  \"classif_dropout\": 0.0,\n",
      "  \"classifier_dropout\": 0.0,\n",
      "  \"d_model\": 1024,\n",
      "  \"decoder_attention_heads\": 16,\n",
      "  \"decoder_ffn_dim\": 4096,\n",
      "  \"decoder_layerdrop\": 0.0,\n",
      "  \"decoder_layers\": 12,\n",
      "  \"decoder_start_token_id\": 250019,\n",
      "  \"dropout\": 0.1,\n",
      "  \"encoder_attention_heads\": 16,\n",
      "  \"encoder_ffn_dim\": 4096,\n",
      "  \"encoder_layerdrop\": 0.0,\n",
      "  \"encoder_layers\": 12,\n",
      "  \"eos_token_id\": 2,\n",
      "  \"forced_eos_token_id\": 2,\n",
      "  \"gradient_checkpointing\": false,\n",
      "  \"id2label\": {\n",
      "    \"0\": \"LABEL_0\",\n",
      "    \"1\": \"LABEL_1\",\n",
      "    \"2\": \"LABEL_2\"\n",
      "  },\n",
      "  \"init_std\": 0.02,\n",
      "  \"is_encoder_decoder\": true,\n",
      "  \"label2id\": {\n",
      "    \"LABEL_0\": 0,\n",
      "    \"LABEL_1\": 1,\n",
      "    \"LABEL_2\": 2\n",
      "  },\n",
      "  \"max_length\": 1024,\n",
      "  \"max_position_embeddings\": 1024,\n",
      "  \"model_type\": \"mbart\",\n",
      "  \"normalize_before\": true,\n",
      "  \"normalize_embedding\": true,\n",
      "  \"num_beams\": 5,\n",
      "  \"num_hidden_layers\": 12,\n",
      "  \"output_past\": true,\n",
      "  \"pad_token_id\": 1,\n",
      "  \"scale_embedding\": true,\n",
      "  \"static_position_embeddings\": false,\n",
      "  \"task_specific_params\": {\n",
      "    \"translation_en_to_ro\": {\n",
      "      \"decoder_start_token_id\": 250020\n",
      "    }\n",
      "  },\n",
      "  \"torch_dtype\": \"float32\",\n",
      "  \"transformers_version\": \"4.25.1\",\n",
      "  \"use_cache\": true,\n",
      "  \"vocab_size\": 250027\n",
      "}\n",
      "\n",
      "loading weights file summarizer/pytorch_model.bin\n",
      "Some weights of the model checkpoint at summarizer were not used when initializing MBartModel: ['final_logits_bias', 'lm_head.weight']\n",
      "- This IS expected if you are initializing MBartModel from the checkpoint of a model trained on another task or with another architecture (e.g. initializing a BertForSequenceClassification model from a BertForPreTraining model).\n",
      "- This IS NOT expected if you are initializing MBartModel from the checkpoint of a model that you expect to be exactly identical (initializing a BertForSequenceClassification model from a BertForSequenceClassification model).\n",
      "All the weights of MBartModel were initialized from the model checkpoint at summarizer.\n",
      "If your task is similar to the task the model of the checkpoint was trained on, you can already use MBartModel for predictions without further training.\n"
     ]
    }
   ],
   "source": [
    "summary = transformers.AutoModel.from_pretrained(\"summarizer\")\n"
   ]
  },
  {
   "cell_type": "code",
   "execution_count": 1,
   "metadata": {},
   "outputs": [
    {
     "ename": "NameError",
     "evalue": "name 'transformers' is not defined",
     "output_type": "error",
     "traceback": [
      "\u001b[0;31m---------------------------------------------------------------------------\u001b[0m",
      "\u001b[0;31mNameError\u001b[0m                                 Traceback (most recent call last)",
      "Cell \u001b[0;32mIn[1], line 1\u001b[0m\n\u001b[0;32m----> 1\u001b[0m summari \u001b[39m=\u001b[39m transformers\u001b[39m.\u001b[39mpipeline(task\u001b[39m=\u001b[39m\u001b[39m\"\u001b[39m\u001b[39msummarization\u001b[39m\u001b[39m\"\u001b[39m,model\u001b[39m=\u001b[39m\u001b[39m\"\u001b[39m\u001b[39msummarizer\u001b[39m\u001b[39m\"\u001b[39m)\n",
      "\u001b[0;31mNameError\u001b[0m: name 'transformers' is not defined"
     ]
    }
   ],
   "source": [
    "summari = transformers.pipeline(task=\"summarization\",model=\"summarizer\")"
   ]
  }
 ],
 "metadata": {
  "kernelspec": {
   "display_name": "kpmg",
   "language": "python",
   "name": "python3"
  },
  "language_info": {
   "codemirror_mode": {
    "name": "ipython",
    "version": 3
   },
   "file_extension": ".py",
   "mimetype": "text/x-python",
   "name": "python",
   "nbconvert_exporter": "python",
   "pygments_lexer": "ipython3",
   "version": "3.10.6 (main, Nov 14 2022, 16:10:14) [GCC 11.3.0]"
  },
  "orig_nbformat": 4,
  "vscode": {
   "interpreter": {
    "hash": "4da638ae617b673635fc85bede8239a246496b537a027ebfae526150a119a5ab"
   }
  }
 },
 "nbformat": 4,
 "nbformat_minor": 2
}

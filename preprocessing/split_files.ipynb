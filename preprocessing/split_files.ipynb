{
 "cells": [
  {
   "cell_type": "code",
   "execution_count": null,
   "metadata": {},
   "outputs": [],
   "source": [
    "import sys\n",
    "import os\n",
    "from os import listdir\n",
    "from statistics import mean,median\n",
    "from alive_progress import alive_bar\n",
    "from pdfminer.high_level import extract_text\n",
    "from pdfrw import PdfReader, PdfWriter, PageMerge"
   ]
  },
  {
   "cell_type": "code",
   "execution_count": null,
   "metadata": {},
   "outputs": [],
   "source": [
    "# Function to split files based on character per line in .pdf\n",
    "# Splits on mean and average of character count\n",
    "# Run this for the .pdf files in /data\n",
    "\n",
    "def split_files():\n",
    "    directory = \"data\"\n",
    "\n",
    "    try:\n",
    "        os.mkdir(\"split\")\n",
    "    except:\n",
    "        pass\n",
    "\n",
    "    def splitpage(src):\n",
    "        \"\"\"Split a page into two (left and right)\"\"\"\n",
    "        # Yield a result for each half of the page\n",
    "        for x_pos in (0, 0.5):\n",
    "            yield PageMerge().add(src, viewrect=(x_pos, 0, 0.5, 1)).render()\n",
    "\n",
    "    split = 0\n",
    "    y=0\n",
    "    already_done=os.listdir('split')\n",
    "    print (len(already_done))\n",
    "    dirs=os.listdir(directory)\n",
    "    for dir in dirs:\n",
    "        paths=os.listdir(f\"{directory}/{dir}\")\n",
    "        for document in paths :\n",
    "            y+=1\n",
    "            print (y,end='\\r')\n",
    "            if document[-4:]=='.pdf' and document not in already_done:\n",
    "                text = extract_text(f\"{directory}/{dir}/{document}\")\n",
    "                x=[]\n",
    "                #print (text)\n",
    "                for i in text.splitlines():\n",
    "\n",
    "                    # Filter out table data\n",
    "                    if (len(i)>40):\n",
    "\n",
    "                        x.append(len(i))\n",
    "                # Calculate the average length of sentences outside tables\n",
    "                try: \n",
    "                    res_mean=mean(x)\n",
    "                except:\n",
    "                    res_mean=100\n",
    "                try:\n",
    "                    res_median=median(x)\n",
    "                except:\n",
    "                    res_median=100\n",
    "                    print ('Error on file:',document,'\\n')\n",
    "                text = text.splitlines()\n",
    "\n",
    "                if len(max(text, key=len)) <=67 or len(max(text, key=len)) >67 and res_mean <55 and res_median<55:\n",
    "                    #print ('Splitting ',document,end='\\r')\n",
    "                    \n",
    "                    writer = PdfWriter()\n",
    "                    page_number = 0\n",
    "                    for page in PdfReader(f\"{directory}/{dir}/{document}\").pages:\n",
    "                        writer.addpages(splitpage(page))\n",
    "                    writer.write(f\"split/{document}\")\n",
    "                    split += 1\n",
    "  \n",
    "    print(f\"Split pdfs: {split}\")"
   ]
  },
  {
   "cell_type": "code",
   "execution_count": null,
   "metadata": {},
   "outputs": [],
   "source": [
    "split_files()\n",
    "\n",
    "# Outputs to /split"
   ]
  },
  {
   "cell_type": "code",
   "execution_count": null,
   "metadata": {},
   "outputs": [],
   "source": [
    "# Output files from the above function splits files in pages sequentially, so they have alternating language per page\n",
    "# This function makes 2 .pdfs from this file in the corresponding language\n",
    "\n",
    "path = \"split\"\n",
    "\n",
    "try:\n",
    "    os.mkdir(\"Nederlands\")\n",
    "except:\n",
    "    pass\n",
    "\n",
    "try:\n",
    "    os.mkdir(\"Francais\")\n",
    "except:\n",
    "    pass\n",
    "\n",
    "for document in os.listdir(path):\n",
    "    writer_NL = PdfWriter()\n",
    "    writer_FR = PdfWriter()\n",
    "    page_number = 0\n",
    "    for page in PdfReader(f\"{path}/{document}\").pages: \n",
    "        page_number += 1\n",
    "        if page_number%2 == 1:\n",
    "            writer_NL.addpage(page)\n",
    "        else:\n",
    "            writer_FR.addpage(page)\n",
    "    writer_NL.write(f\"Nederlands/NL_{document}\")\n",
    "    writer_FR.write(f\"Francais/FR_{document}\")"
   ]
  }
 ],
 "metadata": {
  "kernelspec": {
   "display_name": "googenv",
   "language": "python",
   "name": "python3"
  },
  "language_info": {
   "codemirror_mode": {
    "name": "ipython",
    "version": 3
   },
   "file_extension": ".py",
   "mimetype": "text/x-python",
   "name": "python",
   "nbconvert_exporter": "python",
   "pygments_lexer": "ipython3",
   "version": "3.7.9 (tags/v3.7.9:13c94747c7, Aug 17 2020, 18:58:18) [MSC v.1900 64 bit (AMD64)]"
  },
  "orig_nbformat": 4,
  "vscode": {
   "interpreter": {
    "hash": "54a7e325ecc84fa625d8a3ed09038798785ca9ae88cae94e662f38988cc00c57"
   }
  }
 },
 "nbformat": 4,
 "nbformat_minor": 2
}

{
 "cells": [
  {
   "cell_type": "code",
   "execution_count": 23,
   "metadata": {},
   "outputs": [
    {
     "name": "stdout",
     "output_type": "stream",
     "text": [
      "2311 341-2022-00007680\n",
      "\n",
      "93 330-2022-00122735\n",
      "\n",
      "3287 341-2022-010716.pdfdf\r"
     ]
    }
   ],
   "source": [
    "# This program moves the unprocessed files from the split operation\n",
    "# to new folder /unprocessed_data\n",
    "\n",
    "import os\n",
    "from os import listdir\n",
    "import shutil\n",
    "\n",
    "if not os.path.exists('../unprocessed_data'):\n",
    "    os.mkdir('../unprocessed_data')\n",
    "\n",
    "# Read already processed files\n",
    "processed_files=[]\n",
    "# Select all files in processed_data directory\n",
    "x=int(0)\n",
    "files_in_path=listdir(\"../processed_data\")\n",
    "for file in files_in_path:         \n",
    "    if file[-4:]=='.txt' and file[:3]=='NL_':\n",
    "        x+=1\n",
    "        document_id=file[3:-4]\n",
    "        print (x,document_id,end=\"\\r\")\n",
    "        processed_files.append(document_id)\n",
    "        \n",
    "print (\"\\n\")\n",
    "# Select all files in processed_data/error directory\n",
    "x=int(0)\n",
    "files_in_path=listdir(os.path.join(\"../processed_data\",\"error\"))\n",
    "for file in files_in_path:         \n",
    "    if file[-4:]=='.pdf' and file[:3]=='NL_':\n",
    "        x+=1\n",
    "        document_id=file[3:-4]\n",
    "        print (x,document_id,end=\"\\r\")\n",
    "        processed_files.append(document_id)\n",
    "\n",
    "# Read already processed files\n",
    "\n",
    "\n",
    "# Select all files in data directory\n",
    "a = listdir(\"../data\")\n",
    "text=[]\n",
    "directories=[]\n",
    "\n",
    "for entry in a:\n",
    "    path= os.path.join(\"../data\", entry)\n",
    "    if os.path.isdir(path):\n",
    "        directories.append(entry)\n",
    "\n",
    "# Read already processed files\n",
    "print (\"\\n\")\n",
    "x=int(0)\n",
    "for directory in directories: \n",
    "    files_in_path=listdir(os.path.join(\"../data\",directory))\n",
    "    for file in files_in_path:         \n",
    "        if file[-4:]=='.pdf':\n",
    "            document_id=file[:-4]\n",
    "            if document_id not in processed_files:\n",
    "                x+=1\n",
    "                print (x,file,end=\"\\r\")\n",
    "\n",
    "                # Copy these pdf files to  with > 10 pages to error folder\n",
    "                file_path=os.path.join(\"../data\",directory)\n",
    "                file_path=os.path.join(file_path,file)\n",
    "\n",
    "                src_path = file_path\n",
    "                dst_path = os.path.join('../unprocessed_data')\n",
    "                dst_file= os.path.join(dst_path,file)\n",
    "                shutil.copy(src_path, dst_file)\n"
   ]
  }
 ],
 "metadata": {
  "kernelspec": {
   "display_name": "BC",
   "language": "python",
   "name": "python3"
  },
  "language_info": {
   "codemirror_mode": {
    "name": "ipython",
    "version": 3
   },
   "file_extension": ".py",
   "mimetype": "text/x-python",
   "name": "python",
   "nbconvert_exporter": "python",
   "pygments_lexer": "ipython3",
   "version": "3.7.9 (tags/v3.7.9:13c94747c7, Aug 17 2020, 18:58:18) [MSC v.1900 64 bit (AMD64)]"
  },
  "orig_nbformat": 4,
  "vscode": {
   "interpreter": {
    "hash": "b9434377edc8d689c95d4f7cc1efb275c8ef2b51c4b932fdd853c5984735af54"
   }
  }
 },
 "nbformat": 4,
 "nbformat_minor": 2
}

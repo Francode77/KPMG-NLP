{
 "cells": [
  {
   "cell_type": "code",
   "execution_count": 6,
   "metadata": {},
   "outputs": [
    {
     "name": "stdout",
     "output_type": "stream",
     "text": [
      "\n",
      "\n",
      "Succes!\n",
      "Processed files  : 3134\n",
      "Unprocessed files: 2802\n"
     ]
    }
   ],
   "source": [
    "# This program moves the unprocessed files from the split operation\n",
    "# to new folder /unprocessed_data\n",
    "\n",
    "import os\n",
    "from os import listdir\n",
    "import shutil\n",
    "import re\n",
    "\n",
    "if not os.path.exists('../unprocessed_data'):\n",
    "    os.mkdir('../unprocessed_data')\n",
    "\n",
    "# Make a list of already processed files:\n",
    "processed_files=[]\n",
    "\n",
    "# Select all files in processed_data NL directory\n",
    "x=int(0)\n",
    "files_in_path=listdir(\"../processed_data/NL\")\n",
    "for file in files_in_path:         \n",
    "    if file[-4:]=='.txt' and file[:3]=='NL_':\n",
    "        x+=1\n",
    "        document_id=file[3:]\n",
    "        document_id=re.sub('\\.txt','',document_id)\n",
    "        document_id=re.sub('__(.*)','',document_id)\n",
    "        #print (x,document_id,end=\"\\r\")\n",
    "        processed_files.append(document_id)\n",
    "        \n",
    "# Select all files in processed_data FR directory\n",
    "x=int(0)\n",
    "files_in_path=listdir(\"../processed_data/NL\")\n",
    "for file in files_in_path:         \n",
    "    if file[-4:]=='.txt' and file[:3]=='FR_':\n",
    "        x+=1\n",
    "        document_id=file[3:]\n",
    "        document_id=re.sub('\\.txt','',document_id)\n",
    "        document_id=re.sub('__(.*)','',document_id)\n",
    "        #print (x,document_id,end=\"\\r\")\n",
    "        processed_files.append(document_id)\n",
    "\n",
    "# Select all files in processed_data/error directory\n",
    "#x=int(0)\n",
    "#files_in_path=listdir(os.path.join(\"../processed_data\",\"error\"))\n",
    "#for file in files_in_path:         \n",
    "#    if file[-4:]=='.pdf' and file[:3]=='NL_':\n",
    "#        x+=1\n",
    "#        document_id=file[3:-4]\n",
    "#        print (x,document_id,end=\"\\r\")\n",
    "#        processed_files.append(document_id)\n",
    "\n",
    "# We now have a list of processed files\n",
    "\n",
    "# Select all files in data directory\n",
    "a = listdir(\"../data\")\n",
    "text=[]\n",
    "directories=[]\n",
    "\n",
    "for entry in a:\n",
    "    path= os.path.join(\"../data\", entry)\n",
    "    if os.path.isdir(path):\n",
    "        directories.append(entry)\n",
    "\n",
    "# Read all pdf files from /data\n",
    "print (\"\\n\")\n",
    "x=int(0)\n",
    "for directory in directories: \n",
    "    files_in_path=listdir(os.path.join(\"../data\",directory))\n",
    "    for file in files_in_path:         \n",
    "        if file[-4:]=='.pdf':\n",
    "            document_id=file[:-4]\n",
    "\n",
    "            # Select files not in the list of processed files\n",
    "            if document_id not in processed_files:\n",
    "                x+=1\n",
    "                #print (x,file,end=\"\\r\")\n",
    "\n",
    "                # Copy the pdf files not in list to /unprocessed_data\n",
    "                file_path=os.path.join(\"../data\",directory)\n",
    "                file_path=os.path.join(file_path,file)\n",
    "\n",
    "                src_path = file_path\n",
    "                dst_path = os.path.join('../unprocessed_data')\n",
    "                dst_file= os.path.join(dst_path,file)\n",
    "\n",
    "                shutil.copy(src_path, dst_file)\n",
    "\n",
    "print (\"Succes!\")\n",
    "print (\"Processed files  :\",len(processed_files))\n",
    "print (\"Unprocessed files:\",x)"
   ]
  }
 ],
 "metadata": {
  "kernelspec": {
   "display_name": "googenv",
   "language": "python",
   "name": "python3"
  },
  "language_info": {
   "codemirror_mode": {
    "name": "ipython",
    "version": 3
   },
   "file_extension": ".py",
   "mimetype": "text/x-python",
   "name": "python",
   "nbconvert_exporter": "python",
   "pygments_lexer": "ipython3",
   "version": "3.7.9"
  },
  "orig_nbformat": 4,
  "vscode": {
   "interpreter": {
    "hash": "54a7e325ecc84fa625d8a3ed09038798785ca9ae88cae94e662f38988cc00c57"
   }
  }
 },
 "nbformat": 4,
 "nbformat_minor": 2
}

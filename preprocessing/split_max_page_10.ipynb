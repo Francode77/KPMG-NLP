{
 "cells": [
  {
   "cell_type": "code",
   "execution_count": null,
   "metadata": {},
   "outputs": [],
   "source": [
    "# function to split .pdfs to fit Google cloud limit of max 10 pages\n",
    "\n",
    "def split_max_page_10(directory,output_directory):\n",
    "    import os\n",
    "    from PyPDF2 import PdfFileWriter, PdfFileReader\n",
    "\n",
    "    if not os.path.exists(output_directory):\n",
    "        os.mkdir(output_directory)\n",
    "\n",
    "    for document in os.listdir(directory):\n",
    "        \n",
    "        if not os.path.isdir(f\"{directory}/{document}\"):\n",
    "            inputpdf = PdfFileReader(open(f\"{directory}/{document}\", \"rb\"))\n",
    "            x=int(0)\n",
    "            i=int(0)\n",
    "\n",
    "            if inputpdf.numPages>10:\n",
    "                while i<inputpdf.numPages:\n",
    "                    output = PdfFileWriter()\n",
    "\n",
    "                    for i in range((10*x),(10*(x+1))):\n",
    "                        try: \n",
    "                            output.addPage(inputpdf.getPage(i))\n",
    "                        except:\n",
    "                            break\n",
    "                    with open(f\"{output_directory}/{document}__{x}.pdf\", \"wb\") as outputStream:\n",
    "                        output.write(outputStream)\n",
    "                    print(f\"{output_directory}/{document}__{x}.pdf ... DONE\", end='\\r')\n",
    "                    x+=1\n",
    "                "
   ]
  },
  {
   "cell_type": "code",
   "execution_count": null,
   "metadata": {},
   "outputs": [],
   "source": [
    "# Execute the function\n",
    "directory='../processed_data/error'\n",
    "output_directory='../processed_data/error/fixed'\n",
    "\n",
    "directory='../unprocessed_data'\n",
    "output_directory='../unprocessed_data/fixed'\n",
    "\n",
    "split_max_page_10(directory,output_directory)\n",
    "\n",
    "# NOTICE::\n",
    "# DELETE all THE fixed FILES WITH 1kB filesize afterwards!"
   ]
  }
 ],
 "metadata": {
  "kernelspec": {
   "display_name": "googenv",
   "language": "python",
   "name": "python3"
  },
  "language_info": {
   "codemirror_mode": {
    "name": "ipython",
    "version": 3
   },
   "file_extension": ".py",
   "mimetype": "text/x-python",
   "name": "python",
   "nbconvert_exporter": "python",
   "pygments_lexer": "ipython3",
   "version": "3.7.9 (tags/v3.7.9:13c94747c7, Aug 17 2020, 18:58:18) [MSC v.1900 64 bit (AMD64)]"
  },
  "orig_nbformat": 4,
  "vscode": {
   "interpreter": {
    "hash": "54a7e325ecc84fa625d8a3ed09038798785ca9ae88cae94e662f38988cc00c57"
   }
  }
 },
 "nbformat": 4,
 "nbformat_minor": 2
}

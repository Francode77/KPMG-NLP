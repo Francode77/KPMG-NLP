{
 "cells": [
  {
   "cell_type": "code",
   "execution_count": 55,
   "metadata": {},
   "outputs": [],
   "source": [
    "import os\n",
    "import spacy\n",
    "import pandas\n",
    "import gensim"
   ]
  },
  {
   "cell_type": "code",
   "execution_count": 56,
   "metadata": {},
   "outputs": [
    {
     "data": {
      "text/plain": [
       "'Paritair Comité voor de non-ferro metalen\\nCollectieve arbeidsovereenkomst van 5 juli 2019\\nTIJDSKREDIET,\\nLOOPBAANVERMINDERING EN\\nLANDINGSBANEN.\\narbeidsovereenkomst is\\nondernemingen die\\nComité voor de non-\\nferro metalen en op de werklieden die zij\\ntewerkstellen.\\nArtikel 1. Deze collectieve\\nvan toepassing op de\\nressorteren onder het Paritair\\nOnder \"werklieden\" wordt verstaan: de mannelijke\\nen vrouwelijke werklieden\\nArt. 2. Tijdskrediet met motief - halftijds en\\nvoltijds.\\n§ 1. Zorgmotieven\\nIn uitvoering van artikel 4 § 4 van de collectieve\\narbeidsovereenkomst nr. 103 van 27 juni 2012 tot\\ninvoering van een stelsel van tijdskrediet,\\nloopbaanvermindering en landingsbanen, hebben\\nde in artikel 1 bedoelde werklieden recht op 51\\nmaanden voltijds tijdskrediet of halftijdse\\nloopbaanvermindering zoals voorzien in artikel 4 §\\n1, a),a), \\nb)\\nen c) van de collectieve\\narbeidsovereenkomst nr. 103\\n§ 2. Motief opleiding\\nIn uitvoering van artikel 4 § 4 van de collectieve\\narbeidsovereenkomst nr. 103 van 27 juni 2012 tot\\ninvoering van een stelsel van tijdskrediet,\\nloopbaanvermindering en landingsbanen, hebben\\nde in artikel 1 bedoelde werklieden recht op 36\\nmaanden voltijds tijdskrediet of halftijdse\\nloopbaanvermindering zoals voorzien in artikel 4 §\\n2 van de collectieve arbeidsovereenkomst nr. 103.\\nArt. 3. Landingsbaan vanaf 50 jaar na 28 jaar\\nloopbaan.\\nIn uitvoering van artikel 8 § 3 van de collectieve\\narbeidsovereenkomst nr. 103 van 27 juni 2012 tot\\ninvoering van een stelsel van tijdskrediet,\\nloopbaanvermindering en landingsbanen, hebben\\nde in artikel 1 bedoelde werklieden van minstens\\n50 jaar en die een beroepsloopbaan van 28 jaar\\ndoorlopen hebben, recht op een vermindering van\\nde arbeidsprestaties met 1/5.\\nArt. 4. Landingsbaan vanaf 55 jaar lange\\nloopbaan of zwaar beroep\\n§ 1. In toepassing van artikel 3 van de collectieve\\narbeidsovereenkomst nr. 137 van de NAR van 23\\napril 2019 wordt de leeftijd voor de periode 2019-\\n2020 op 55 jaar gebracht voor de werklieden die in\\ntoepassing van artikel 8 § 1 van de voornoemde\\ncollectieve arbeidsovereenkomst nr. 103 van 27\\njuni 2012 hun arbeidsprestaties verminderen met\\n1/5 en die voldoen aan de voorwaarden zoals\\nbepaald in artikel 6 § 5 van het Koninklijk besluit\\nvan 12 december 2001 zoals gewijzigd door artikel\\n4 van het Koninklijk besluit van 30 december\\n2014.\\n§ 2. In toepassing van artikel 3 van de collectieve\\narbeidsovereenkomst nr. 137 van de NAR van 23\\napril 2019 wordt de leeftijd voor de periode 2019-\\n2020 op 57 jaar gebracht voor de werklieden die in\\ntoepassing van artikel 8 § 1 van de voornoemde\\ncollectieve arbeidsovereenkomst nr. 103 van 27\\njuni 2012 hun arbeidsprestaties verminderen tot\\neen halftijdse betrekking en die voldoen aan de\\nvoorwaarden zoals bepaald in artikel 6 § 5 van het\\nKoninklijk besluit van 12 december 2001 zoals\\ngewijzigd door artikel 4 van het Koninklijk besluit\\nvan 30 december 2014.\\nDeze bepaling geldt enkel voor wat betreft het\\nrecht op uitkeringen en doet geen afbreuk aan het\\nrecht op het verminderen van de arbeidsprestaties\\ntot een halftijdse betrekking of het verminderen\\nervan met 1/5 in toepassing van artikel 8 § 1 van de\\nvoornoemde collectieve arbeidsovereenkomst nr.\\n103 van 27 juni 2012.\\nArt. 5. Drempel\\n§ 1. In toepassing van artikel 16 van de\\nhogervermelde collectieve arbeidsovereenkomst nr.\\n103 wordt de drempel inzake het gelijktijdig\\nuitoefenen van het recht op voltijds tijdskrediet,\\nhalftijdse of 1/5e loopbaanvermindering vastgelegd\\nop 5%, geteld in koppen, van de werklieden\\novereenkomstig de bepalingen van de collectieve\\narbeidsovereenkomst nr. 103.\\n§ 2. Onverminderd de bestaande collectieve\\narbeidsovereenkomsten op ondernemingsvlak kan\\ndeze drempel op ondernemingsvlak bij collectieve\\narbeidsovereenkomst worden verhoogd tot\\nmaximum 4%, berekend in voltijdse equivalenten,\\nvan het aantal werklieden tewerkgesteld in de\\nonderneming of de dienst zoals bedoeld in artikel\\n16 § 2 van de collectieve arbeidsovereenkomst nr.\\n103 op 30 juni van het jaar voorafgaand aan het\\njaar tijdens hetwelk de rechten gelijktijdig worden\\nuitgeoefend.\\nDeze collectieve arbeidsovereenkomst op\\nondernemingsvlak dient minimaal volgende 4\\nelementen te regelen:\\nBerekeningswijze van de drempel in\\nvoltijdse equivalenten;\\nDe voorwaarden van de toegang tot dit\\nuitgebreid recht;\\nDe modaliteiten van aanvraag en\\nrangordening ervan;\\nDe categorieën van werklieden op dewelke\\nde bedoelde regeling van toepassing is.\\n§ 3. Voor de berekening van de drempel\\novereenkomstig § 1 en § 2 van huidig artikel\\nworden de werknemers van 55 jaar of ouder die\\neen 1/5e loopbaanvermindering uitoefenen of\\nhebben aangevraagd op grond van de artikelen 3, 4\\nen 8 van collectieve arbeidsovereenkomst nr. 103\\nof ingevolge de artikelen 6 en 9 van de collectieve\\narbeidsovereenkomst nr. 77bis, niet in aanmerking\\ngenomen overeenkomstig de bepalingen van artikel\\n16 § 1, § 3 en § 6 van de collectieve\\narbeidsovereenkomst nr. 103.\\n§ 4. Op ondernemingsvlak is ter zake geen verdere\\nafwijking mogelijk.\\nArt. 6. Herstructurering.\\n§ 1. Voor ondernemingen in herstructurering kan,\\nmet het oog op het vermijden of beperken van\\nontslagen, uitzonderlijk en na goedkeuring door het\\nParitair\\ncomité,\\nbij\\ncollectieve\\nondernemingsvlak,\\nop\\nafgeweken worden van de drempel zoals bepaald\\nin artikel 5, met uitzondering van artikel 3, § 3, dat\\nook in geval van herstructurering van kracht blijft.\\narbeidsovereenkomst\\nin\\n§ 2. Onder \"ondernemingen in herstructurering\"\\nwordt verstaan; de ondernemingen\\nherstructurering zoals bepaald overeenkomstig de\\nbepalingen van de reglementering betreffende het\\nstelsel van werkloosheid met bedrijfstoeslag.\\nArt. 7. Organisatieregels loopbaanvermindering\\nmet 1/5.\\n§ 1. Overeenkomstig artikel 4 § 5, 3) en 8 § 1, 1)\\nvan de collectieve arbeidsovereenkomst nr. 103\\nwordt het recht op 1/5e loopbaanvermindering\\nuitgeoefend ten belope van 1 dag per week of 2\\nhalve dagen per week.\\n§ 2. In toepassing van artikel 6 § 2 en 9 § 2 van de\\ncollectieve arbeidsovereenkomst nr. 103 kan voor\\nhet organiseren van het recht op 1/5e\\nloopbaanvermindering een andere gelijkwaardige\\nregeling over een periode van maximum 12\\nmaanden worden vastgesteld dan die ten belope\\nvan 1 dag of 2 halve dagen per week:\\nJ\\nBij collectieve arbeidsovereenkomst op\\nondernemingsvlak\\nen\\nvervolgens\\ngeïntegreerd in het arbeidsreglement;\\nOf ingeval er geen vakbondsafvaardiging in\\nde onderneming aanwezig is, bij\\narbeidsreglement mits daarover een\\nwederzijds schriftelijk akkoord wordt\\ngesloten tussen werknemer en werkgever.\\nArt. 8. Organisatieregels 1/5e loopbaan-\\nvermindering voor werklieden tewerkgesteld in\\nploegen of cycli.\\n§ 1. Overeenkomstig artikel 6 § 1 en 9 § 1 van de\\ncollectieve arbeidsovereenkomst nr. 103 gelden\\nvoor de werklieden tewerkgesteld in ploegen of\\ncycli dezelfde regels als vervat in artikel 7 § 1 en §\\n2 van de huidige collectieve arbeidsovereenkomst.\\n§ 2. Wordt voor werklieden tewerkgesteld in\\nploegen of cycli een andere gelijkwaardige\\nregeling overeengekomen overeenkomstig artikel 7\\n§ 2 van de huidige collectieve\\narbeidsovereenkomst, dan moet de bestaande\\narbeidsorganisatie verder toegepast kunnen\\nworden.\\nDit impliceert dat de toepassing van de\\narbeidscycli\\nde ploegenstelsels\\nen\\nvan\\ngegarandeerd moet blijven.\\n§ 3. Voor werklieden tewerkgesteld in ploegen\\ndoet de mogelijkheid in een andere gelijkwaardige\\nregeling te voorzien overeenkomstig artikel 7 § 2\\nvan de huidige collectieve arbeidsovereenkomst\\ngeen afbreuk aan de akkoorden die hierover reeds\\nzijn gesloten.\\nArt. 9. Organiseerbaarheid\\nBij de uitoefening van het recht op tijdskrediet\\nroepen de sociale partners op om aandacht te\\nhebben voor de organiseerbaarheid binnen de\\nondernemingen.\\nArt. 10. Duur.\\nDeze collectieve arbeidsovereenkomst treedt in\\nwerking op 1 januari 2019 en treedt buiten werking\\nop 30 juni 2021 met uitzondering van artikel 4 dat\\nbuiten werking treedt op 31 december 2020.\\nJULIJULI \\n2019\\nSOCIAAL AKKOORD VAN 5\\nAANMOEDIGINGSPREMIES IN DE PRIVE-SECTOR\\nVLAAMSE REGERING VAN 1 MAART 2002\\nIn toepassing van het besluit van de Vlaamse reg\\naanmoedigingspremies in de privé sector van 1 maart\\nwerklieden ressorterend onder het Paritair Comité voor\\nGewest tot 30 juni 2021 gebruik kunnen maken va\\nzorgkrediet en het opleidingskrediet en van de aanmoed\\nin moeilijkheden of in herstructurering.\\nACCORD SOCIAL DU 5 JUILLET 2019\\nD\\'ENCOURAGEMENT AU SECTEUR PRIVI\\nGOUVERNEMENT FLAMAND DU 1er MARS 2002\\nEn application de l\\'arrêté du Gouvernement flamand po\\nau secteur privé du 1er mars 2002, les parties signa\\nCommission paritaire des métaux non ferreux et occ-\\njusqu\\'au 30 juin 2021, des primes d\\'encouragement dar\\nde la prime d\\'encouragement pour les travailleurs des er\\n'"
      ]
     },
     "execution_count": 56,
     "metadata": {},
     "output_type": "execute_result"
    }
   ],
   "source": [
    "with open(\"./processed_data/NL/NL_105-2019-010332.txt\") as f:\n",
    "    text = f.read()\n",
    "text"
   ]
  },
  {
   "cell_type": "code",
   "execution_count": 57,
   "metadata": {},
   "outputs": [
    {
     "name": "stderr",
     "output_type": "stream",
     "text": [
      "/tmp/ipykernel_3906/2054324826.py:1: FutureWarning: The default value of regex will change from True to False in a future version.\n",
      "  clean_text = pandas.Series(text).str.replace(\"[^a-zA-Z0-9]\",\" \")\n"
     ]
    },
    {
     "data": {
      "text/plain": [
       "0    Paritair Comit  voor de non ferro metalen Coll...\n",
       "dtype: object"
      ]
     },
     "execution_count": 57,
     "metadata": {},
     "output_type": "execute_result"
    }
   ],
   "source": [
    "clean_text = pandas.Series(text).str.replace(\"[^a-zA-Z0-9]\",\" \")\n",
    "clean_text"
   ]
  },
  {
   "cell_type": "code",
   "execution_count": 58,
   "metadata": {},
   "outputs": [
    {
     "name": "stdout",
     "output_type": "stream",
     "text": [
      "8626\n"
     ]
    },
    {
     "data": {
      "text/plain": [
       "['paritair comit  voor de non ferro metalen collectieve arbeidsovereenkomst van 5 juli 2019 tijdskrediet  loopbaanvermindering en landingsbanen  arbeidsovereenkomst is ondernemingen die comit  voor de non  ferro metalen en op de werklieden die zij tewerkstellen  artikel 1  deze collectieve van toepassing op de ressorteren onder het paritair onder  werklieden  wordt verstaan  de mannelijke en vrouwelijke werklieden art  2  tijdskrediet met motief   halftijds en voltijds    1  zorgmotieven in uitvoering van artikel 4   4 van de collectieve arbeidsovereenkomst nr  103 van 27 juni 2012 tot invoering van een stelsel van tijdskrediet  loopbaanvermindering en landingsbanen  hebben de in artikel 1 bedoelde werklieden recht op 51 maanden voltijds tijdskrediet of halftijdse loopbaanvermindering zoals voorzien in artikel 4   1  a  a    b  en c  van de collectieve arbeidsovereenkomst nr  103   2  motief opleiding in uitvoering van artikel 4   4 van de collectieve arbeidsovereenkomst nr  103 van 27 juni 2012 tot invoering van een stelsel van tijdskrediet  loopbaanvermindering en landingsbanen  hebben de in artikel 1 bedoelde werklieden recht op 36 maanden voltijds tijdskrediet of halftijdse loopbaanvermindering zoals voorzien in artikel 4   2 van de collectieve arbeidsovereenkomst nr  103  art  3  landingsbaan vanaf 50 jaar na 28 jaar loopbaan  in uitvoering van artikel 8   3 van de collectieve arbeidsovereenkomst nr  103 van 27 juni 2012 tot invoering van een stelsel van tijdskrediet  loopbaanvermindering en landingsbanen  hebben de in artikel 1 bedoelde werklieden van minstens 50 jaar en die een beroepsloopbaan van 28 jaar doorlopen hebben  recht op een vermindering van de arbeidsprestaties met 1 5  art  4  landingsbaan vanaf 55 jaar lange loopbaan of zwaar beroep   1  in toepassing van artikel 3 van de collectieve arbeidsovereenkomst nr  137 van de nar van 23 april 2019 wordt de leeftijd voor de periode 2019  2020 op 55 jaar gebracht voor de werklieden die in toepassing van artikel 8   1 van de voornoemde collectieve arbeidsovereenkomst nr  103 van 27 juni 2012 hun arbeidsprestaties verminderen met 1 5 en die voldoen aan de voorwaarden zoals bepaald in artikel 6   5 van het koninklijk besluit van 12 december 2001 zoals gewijzigd door artikel 4 van het koninklijk besluit van 30 december 2014    2  in toepassing van artikel 3 van de collectieve arbeidsovereenkomst nr  137 van de nar van 23 april 2019 wordt de leeftijd voor de periode 2019  2020 op 57 jaar gebracht voor de werklieden die in toepassing van artikel 8   1 van de voornoemde collectieve arbeidsovereenkomst nr  103 van 27 juni 2012 hun arbeidsprestaties verminderen tot een halftijdse betrekking en die voldoen aan de voorwaarden zoals bepaald in artikel 6   5 van het koninklijk besluit van 12 december 2001 zoals gewijzigd door artikel 4 van het koninklijk besluit van 30 december 2014  deze bepaling geldt enkel voor wat betreft het recht op uitkeringen en doet geen afbreuk aan het recht op het verminderen van de arbeidsprestaties tot een halftijdse betrekking of het verminderen ervan met 1 5 in toepassing van artikel 8   1 van de voornoemde collectieve arbeidsovereenkomst nr  103 van 27 juni 2012  art  5  drempel   1  in toepassing van artikel 16 van de hogervermelde collectieve arbeidsovereenkomst nr  103 wordt de drempel inzake het gelijktijdig uitoefenen van het recht op voltijds tijdskrediet  halftijdse of 1 5e loopbaanvermindering vastgelegd op 5   geteld in koppen  van de werklieden overeenkomstig de bepalingen van de collectieve arbeidsovereenkomst nr  103    2  onverminderd de bestaande collectieve arbeidsovereenkomsten op ondernemingsvlak kan deze drempel op ondernemingsvlak bij collectieve arbeidsovereenkomst worden verhoogd tot maximum 4   berekend in voltijdse equivalenten  van het aantal werklieden tewerkgesteld in de onderneming of de dienst zoals bedoeld in artikel 16   2 van de collectieve arbeidsovereenkomst nr  103 op 30 juni van het jaar voorafgaand aan het jaar tijdens hetwelk de rechten gelijktijdig worden uitgeoefend  deze collectieve arbeidsovereenkomst op ondernemingsvlak dient minimaal volgende 4 elementen te regelen  berekeningswijze van de drempel in voltijdse equivalenten  de voorwaarden van de toegang tot dit uitgebreid recht  de modaliteiten van aanvraag en rangordening ervan  de categorie n van werklieden op dewelke de bedoelde regeling van toepassing is    3  voor de berekening van de drempel overeenkomstig   1 en   2 van huidig artikel worden de werknemers van 55 jaar of ouder die een 1 5e loopbaanvermindering uitoefenen of hebben aangevraagd op grond van de artikelen 3  4 en 8 van collectieve arbeidsovereenkomst nr  103 of ingevolge de artikelen 6 en 9 van de collectieve arbeidsovereenkomst nr  77bis  niet in aanmerking genomen overeenkomstig de bepalingen van artikel 16   1    3 en   6 van de collectieve arbeidsovereenkomst nr  103    4  op ondernemingsvlak is ter zake geen verdere afwijking mogelijk  art  6  herstructurering    1  voor ondernemingen in herstructurering kan  met het oog op het vermijden of beperken van ontslagen  uitzonderlijk en na goedkeuring door het paritair comit   bij collectieve ondernemingsvlak  op afgeweken worden van de drempel zoals bepaald in artikel 5  met uitzondering van artikel 3    3  dat ook in geval van herstructurering van kracht blijft  arbeidsovereenkomst in   2  onder  ondernemingen in herstructurering  wordt verstaan  de ondernemingen herstructurering zoals bepaald overeenkomstig de bepalingen van de reglementering betreffende het stelsel van werkloosheid met bedrijfstoeslag  art  7  organisatieregels loopbaanvermindering met 1 5    1  overeenkomstig artikel 4   5  3  en 8   1  1  van de collectieve arbeidsovereenkomst nr  103 wordt het recht op 1 5e loopbaanvermindering uitgeoefend ten belope van 1 dag per week of 2 halve dagen per week    2  in toepassing van artikel 6   2 en 9   2 van de collectieve arbeidsovereenkomst nr  103 kan voor het organiseren van het recht op 1 5e loopbaanvermindering een andere gelijkwaardige regeling over een periode van maximum 12 maanden worden vastgesteld dan die ten belope van 1 dag of 2 halve dagen per week  j bij collectieve arbeidsovereenkomst op ondernemingsvlak en vervolgens ge ntegreerd in het arbeidsreglement  of ingeval er geen vakbondsafvaardiging in de onderneming aanwezig is  bij arbeidsreglement mits daarover een wederzijds schriftelijk akkoord wordt gesloten tussen werknemer en werkgever  art  8  organisatieregels 1 5e loopbaan  vermindering voor werklieden tewerkgesteld in ploegen of cycli    1  overeenkomstig artikel 6   1 en 9   1 van de collectieve arbeidsovereenkomst nr  103 gelden voor de werklieden tewerkgesteld in ploegen of cycli dezelfde regels als vervat in artikel 7   1 en   2 van de huidige collectieve arbeidsovereenkomst    2  wordt voor werklieden tewerkgesteld in ploegen of cycli een andere gelijkwaardige regeling overeengekomen overeenkomstig artikel 7   2 van de huidige collectieve arbeidsovereenkomst  dan moet de bestaande arbeidsorganisatie verder toegepast kunnen worden  dit impliceert dat de toepassing van de arbeidscycli de ploegenstelsels en van gegarandeerd moet blijven    3  voor werklieden tewerkgesteld in ploegen doet de mogelijkheid in een andere gelijkwaardige regeling te voorzien overeenkomstig artikel 7   2 van de huidige collectieve arbeidsovereenkomst geen afbreuk aan de akkoorden die hierover reeds zijn gesloten  art  9  organiseerbaarheid bij de uitoefening van het recht op tijdskrediet roepen de sociale partners op om aandacht te hebben voor de organiseerbaarheid binnen de ondernemingen  art  10  duur  deze collectieve arbeidsovereenkomst treedt in werking op 1 januari 2019 en treedt buiten werking op 30 juni 2021 met uitzondering van artikel 4 dat buiten werking treedt op 31 december 2020  julijuli  2019 sociaal akkoord van 5 aanmoedigingspremies in de prive sector vlaamse regering van 1 maart 2002 in toepassing van het besluit van de vlaamse reg aanmoedigingspremies in de priv  sector van 1 maart werklieden ressorterend onder het paritair comit  voor gewest tot 30 juni 2021 gebruik kunnen maken va zorgkrediet en het opleidingskrediet en van de aanmoed in moeilijkheden of in herstructurering  accord social du 5 juillet 2019 d encouragement au secteur privi gouvernement flamand du 1er mars 2002 en application de l arr t  du gouvernement flamand po au secteur priv  du 1er mars 2002  les parties signa commission paritaire des m taux non ferreux et occ  jusqu au 30 juin 2021  des primes d encouragement dar de la prime d encouragement pour les travailleurs des er ']"
      ]
     },
     "execution_count": 58,
     "metadata": {},
     "output_type": "execute_result"
    }
   ],
   "source": [
    "clean_text = [s.lower() for s in clean_text]\n",
    "print(len(clean_text[0]))\n",
    "clean_text"
   ]
  },
  {
   "cell_type": "code",
   "execution_count": 59,
   "metadata": {},
   "outputs": [
    {
     "name": "stderr",
     "output_type": "stream",
     "text": [
      "[nltk_data] Downloading package punkt to /home/sedat/nltk_data...\n",
      "[nltk_data]   Package punkt is already up-to-date!\n"
     ]
    },
    {
     "data": {
      "text/plain": [
       "['paritair comit non ferro metalen collectieve arbeidsovereenkomst 5 juli 2019 tijdskrediet loopbaanvermindering landingsbanen arbeidsovereenkomst ondernemingen comit non ferro metalen werklieden tewerkstellen artikel 1 collectieve toepassing ressorteren paritair werklieden verstaan mannelijke vrouwelijke werklieden art 2 tijdskrediet motief halftijds voltijds 1 zorgmotieven uitvoering artikel 4 4 collectieve arbeidsovereenkomst nr 103 27 juni 2012 invoering stelsel tijdskrediet loopbaanvermindering landingsbanen artikel 1 bedoelde werklieden recht 51 maanden voltijds tijdskrediet halftijdse loopbaanvermindering zoals voorzien artikel 4 1 a a b c collectieve arbeidsovereenkomst nr 103 2 motief opleiding uitvoering artikel 4 4 collectieve arbeidsovereenkomst nr 103 27 juni 2012 invoering stelsel tijdskrediet loopbaanvermindering landingsbanen artikel 1 bedoelde werklieden recht 36 maanden voltijds tijdskrediet halftijdse loopbaanvermindering zoals voorzien artikel 4 2 collectieve arbeidsovereenkomst nr 103 art 3 landingsbaan vanaf 50 jaar 28 jaar loopbaan uitvoering artikel 8 3 collectieve arbeidsovereenkomst nr 103 27 juni 2012 invoering stelsel tijdskrediet loopbaanvermindering landingsbanen artikel 1 bedoelde werklieden minstens 50 jaar beroepsloopbaan 28 jaar doorlopen recht vermindering arbeidsprestaties 1 5 art 4 landingsbaan vanaf 55 jaar lange loopbaan zwaar beroep 1 toepassing artikel 3 collectieve arbeidsovereenkomst nr 137 nar 23 april 2019 leeftijd periode 2019 2020 55 jaar gebracht werklieden toepassing artikel 8 1 voornoemde collectieve arbeidsovereenkomst nr 103 27 juni 2012 arbeidsprestaties verminderen 1 5 voldoen voorwaarden zoals bepaald artikel 6 5 koninklijk besluit 12 december 2001 zoals gewijzigd artikel 4 koninklijk besluit 30 december 2014 2 toepassing artikel 3 collectieve arbeidsovereenkomst nr 137 nar 23 april 2019 leeftijd periode 2019 2020 57 jaar gebracht werklieden toepassing artikel 8 1 voornoemde collectieve arbeidsovereenkomst nr 103 27 juni 2012 arbeidsprestaties verminderen halftijdse betrekking voldoen voorwaarden zoals bepaald artikel 6 5 koninklijk besluit 12 december 2001 zoals gewijzigd artikel 4 koninklijk besluit 30 december 2014 bepaling geldt enkel betreft recht uitkeringen doet afbreuk recht verminderen arbeidsprestaties halftijdse betrekking verminderen ervan 1 5 toepassing artikel 8 1 voornoemde collectieve arbeidsovereenkomst nr 103 27 juni 2012 art 5 drempel 1 toepassing artikel 16 hogervermelde collectieve arbeidsovereenkomst nr 103 drempel inzake gelijktijdig uitoefenen recht voltijds tijdskrediet halftijdse 1 5e loopbaanvermindering vastgelegd 5 geteld koppen werklieden overeenkomstig bepalingen collectieve arbeidsovereenkomst nr 103 2 onverminderd bestaande collectieve arbeidsovereenkomsten ondernemingsvlak drempel ondernemingsvlak collectieve arbeidsovereenkomst verhoogd maximum 4 berekend voltijdse equivalenten aantal werklieden tewerkgesteld onderneming dienst zoals bedoeld artikel 16 2 collectieve arbeidsovereenkomst nr 103 30 juni jaar voorafgaand jaar tijdens hetwelk rechten gelijktijdig uitgeoefend collectieve arbeidsovereenkomst ondernemingsvlak dient minimaal volgende 4 elementen regelen berekeningswijze drempel voltijdse equivalenten voorwaarden toegang uitgebreid recht modaliteiten aanvraag rangordening ervan categorie n werklieden dewelke bedoelde regeling toepassing 3 berekening drempel overeenkomstig 1 2 huidig artikel werknemers 55 jaar ouder 1 5e loopbaanvermindering uitoefenen aangevraagd grond artikelen 3 4 8 collectieve arbeidsovereenkomst nr 103 ingevolge artikelen 6 9 collectieve arbeidsovereenkomst nr 77bis aanmerking genomen overeenkomstig bepalingen artikel 16 1 3 6 collectieve arbeidsovereenkomst nr 103 4 ondernemingsvlak ter zake verdere afwijking mogelijk art 6 herstructurering 1 ondernemingen herstructurering oog vermijden beperken ontslagen uitzonderlijk goedkeuring paritair comit collectieve ondernemingsvlak afgeweken drempel zoals bepaald artikel 5 uitzondering artikel 3 3 geval herstructurering kracht blijft arbeidsovereenkomst 2 ondernemingen herstructurering verstaan ondernemingen herstructurering zoals bepaald overeenkomstig bepalingen reglementering betreffende stelsel werkloosheid bedrijfstoeslag art 7 organisatieregels loopbaanvermindering 1 5 1 overeenkomstig artikel 4 5 3 8 1 1 collectieve arbeidsovereenkomst nr 103 recht 1 5e loopbaanvermindering uitgeoefend ten belope 1 dag per week 2 halve dagen per week 2 toepassing artikel 6 2 9 2 collectieve arbeidsovereenkomst nr 103 organiseren recht 1 5e loopbaanvermindering gelijkwaardige regeling periode maximum 12 maanden vastgesteld ten belope 1 dag 2 halve dagen per week j collectieve arbeidsovereenkomst ondernemingsvlak vervolgens ntegreerd arbeidsreglement ingeval vakbondsafvaardiging onderneming aanwezig arbeidsreglement mits daarover wederzijds schriftelijk akkoord gesloten tussen werknemer werkgever art 8 organisatieregels 1 5e loopbaan vermindering werklieden tewerkgesteld ploegen cycli 1 overeenkomstig artikel 6 1 9 1 collectieve arbeidsovereenkomst nr 103 gelden werklieden tewerkgesteld ploegen cycli dezelfde regels vervat artikel 7 1 2 huidige collectieve arbeidsovereenkomst 2 werklieden tewerkgesteld ploegen cycli gelijkwaardige regeling overeengekomen overeenkomstig artikel 7 2 huidige collectieve arbeidsovereenkomst bestaande arbeidsorganisatie verder toegepast impliceert toepassing arbeidscycli ploegenstelsels gegarandeerd blijven 3 werklieden tewerkgesteld ploegen doet mogelijkheid gelijkwaardige regeling voorzien overeenkomstig artikel 7 2 huidige collectieve arbeidsovereenkomst afbreuk akkoorden hierover gesloten art 9 organiseerbaarheid uitoefening recht tijdskrediet roepen sociale partners aandacht organiseerbaarheid binnen ondernemingen art 10 duur collectieve arbeidsovereenkomst treedt werking 1 januari 2019 treedt buiten werking 30 juni 2021 uitzondering artikel 4 buiten werking treedt 31 december 2020 julijuli 2019 sociaal akkoord 5 aanmoedigingspremies prive sector vlaamse regering 1 maart 2002 toepassing besluit vlaamse reg aanmoedigingspremies priv sector 1 maart werklieden ressorterend paritair comit gewest 30 juni 2021 gebruik maken va zorgkrediet opleidingskrediet aanmoed moeilijkheden herstructurering accord social du 5 juillet 2019 d encouragement au secteur privi gouvernement flamand du 1er mars 2002 application l arr t du gouvernement flamand po au secteur priv du 1er mars 2002 les parties signa commission paritaire des m taux non ferreux et occ jusqu au 30 juin 2021 des primes d encouragement dar la prime d encouragement pour les travailleurs des']"
      ]
     },
     "execution_count": 59,
     "metadata": {},
     "output_type": "execute_result"
    }
   ],
   "source": [
    "import nltk\n",
    "nltk.download(\"punkt\")\n",
    "from nltk.corpus import stopwords\n",
    "nl_stopwords = stopwords.words(\"dutch\")\n",
    "\n",
    "def remove_stopwords (txt):\n",
    "    txt_new = \" \".join([i for i in txt if i not in nl_stopwords])\n",
    "    return txt_new\n",
    "\n",
    "clean_text = [remove_stopwords(r.split())for r in clean_text]\n",
    "clean_text"
   ]
  },
  {
   "cell_type": "code",
   "execution_count": 60,
   "metadata": {},
   "outputs": [],
   "source": [
    "nlp = spacy.load(\"nl_core_news_lg\")\n",
    "doc = nlp(clean_text[0])"
   ]
  },
  {
   "cell_type": "code",
   "execution_count": 61,
   "metadata": {},
   "outputs": [
    {
     "name": "stdout",
     "output_type": "stream",
     "text": [
      "5 juli 2019 - DATE\n",
      "1 - CARDINAL\n",
      "2 - CARDINAL\n",
      "1 - CARDINAL\n",
      "4 - CARDINAL\n",
      "4 - CARDINAL\n",
      "103 - CARDINAL\n",
      "27 juni 2012 - DATE\n",
      "1 - CARDINAL\n",
      "51 maanden - DATE\n",
      "4 - CARDINAL\n",
      "1 - CARDINAL\n",
      "103 - CARDINAL\n",
      "2 - CARDINAL\n",
      "4 - CARDINAL\n",
      "4 - CARDINAL\n",
      "103 - CARDINAL\n",
      "27 juni 2012 - DATE\n",
      "1 - CARDINAL\n",
      "36 maanden - DATE\n",
      "4 - CARDINAL\n",
      "2 - CARDINAL\n",
      "103 - CARDINAL\n",
      "3 - CARDINAL\n",
      "50 jaar - DATE\n",
      "28 jaar - DATE\n",
      "8 - CARDINAL\n",
      "3 - CARDINAL\n",
      "103 - CARDINAL\n",
      "27 juni 2012 - DATE\n",
      "1 - CARDINAL\n",
      "50 jaar - DATE\n",
      "28 jaar - DATE\n",
      "1 - CARDINAL\n",
      "5 - CARDINAL\n",
      "4 - CARDINAL\n",
      "55 jaar - DATE\n",
      "1 - CARDINAL\n",
      "3 - CARDINAL\n",
      "137 - CARDINAL\n",
      "23 april 2019 - DATE\n",
      "2019 - DATE\n",
      "55 jaar - DATE\n",
      "8 - CARDINAL\n",
      "1 - CARDINAL\n",
      "103 - CARDINAL\n",
      "27 juni 2012 - DATE\n",
      "1 - CARDINAL\n",
      "5 - CARDINAL\n",
      "6 - CARDINAL\n",
      "5 - CARDINAL\n",
      "12 december 2001 - DATE\n",
      "4 - CARDINAL\n",
      "30 december 2014 - DATE\n",
      "2 - CARDINAL\n",
      "3 - CARDINAL\n",
      "137 - CARDINAL\n",
      "23 april 2019 - DATE\n",
      "2019 - DATE\n",
      "57 jaar - DATE\n",
      "8 - CARDINAL\n",
      "1 - CARDINAL\n",
      "103 - CARDINAL\n",
      "27 juni 2012 - DATE\n",
      "6 - CARDINAL\n",
      "5 - CARDINAL\n",
      "12 december 2001 - DATE\n",
      "4 - CARDINAL\n",
      "30 december 2014 - DATE\n",
      "1 - CARDINAL\n",
      "5 - CARDINAL\n",
      "8 - CARDINAL\n",
      "1 - CARDINAL\n",
      "103 - CARDINAL\n",
      "27 juni 2012 - DATE\n",
      "5 - CARDINAL\n",
      "1 - CARDINAL\n",
      "16 - CARDINAL\n",
      "103 - CARDINAL\n",
      "1 - CARDINAL\n",
      "5e - ORDINAL\n",
      "5 - CARDINAL\n",
      "103 - CARDINAL\n",
      "2 - CARDINAL\n",
      "4 - CARDINAL\n",
      "16 - CARDINAL\n",
      "2 - CARDINAL\n",
      "103 - CARDINAL\n",
      "30 juni jaar - DATE\n",
      "4 - CARDINAL\n",
      "3 - CARDINAL\n",
      "1 - CARDINAL\n",
      "2 - CARDINAL\n",
      "55 jaar - DATE\n",
      "1 - CARDINAL\n",
      "5e - ORDINAL\n",
      "3 - CARDINAL\n",
      "4 - CARDINAL\n",
      "8 - CARDINAL\n",
      "103 - CARDINAL\n",
      "6 - CARDINAL\n",
      "9 - CARDINAL\n",
      "77bis - CARDINAL\n",
      "16 - CARDINAL\n",
      "1 - CARDINAL\n",
      "3 - CARDINAL\n",
      "6 - CARDINAL\n",
      "103 - CARDINAL\n",
      "4 - CARDINAL\n",
      "6 - CARDINAL\n",
      "1 - CARDINAL\n",
      "5 - CARDINAL\n",
      "3 - CARDINAL\n",
      "3 - CARDINAL\n",
      "2 - CARDINAL\n",
      "7 - CARDINAL\n",
      "1 - CARDINAL\n",
      "5 - CARDINAL\n",
      "1 - CARDINAL\n",
      "4 - CARDINAL\n",
      "5 - CARDINAL\n",
      "3 - CARDINAL\n",
      "8 - CARDINAL\n",
      "1 - CARDINAL\n",
      "1 - CARDINAL\n",
      "103 - CARDINAL\n",
      "1 - CARDINAL\n",
      "5e - ORDINAL\n",
      "1 dag - DATE\n",
      "week - DATE\n",
      "2 - CARDINAL\n",
      "week - DATE\n",
      "2 - CARDINAL\n",
      "6 - CARDINAL\n",
      "2 - CARDINAL\n",
      "9 - CARDINAL\n",
      "2 - CARDINAL\n",
      "103 - CARDINAL\n",
      "1 - CARDINAL\n",
      "5e - ORDINAL\n",
      "12 maanden - DATE\n",
      "1 dag - DATE\n",
      "2 - CARDINAL\n",
      "8 - CARDINAL\n",
      "organisatieregels 1 5e loopbaan vermindering werklieden tewerkgesteld ploegen - PERSON\n",
      "1 - CARDINAL\n",
      "6 - CARDINAL\n",
      "1 - CARDINAL\n",
      "9 - CARDINAL\n",
      "1 - CARDINAL\n",
      "103 - CARDINAL\n",
      "7 - CARDINAL\n",
      "1 - CARDINAL\n",
      "2 - CARDINAL\n",
      "2 - CARDINAL\n",
      "7 - CARDINAL\n",
      "2 - CARDINAL\n",
      "3 - CARDINAL\n",
      "7 - CARDINAL\n",
      "2 - CARDINAL\n",
      "9 - CARDINAL\n",
      "10 - CARDINAL\n",
      "1 januari 2019 - DATE\n",
      "30 juni 2021 - DATE\n",
      "4 - CARDINAL\n",
      "31 december 2020 - DATE\n",
      "2019 - DATE\n",
      "5 - CARDINAL\n",
      "vlaamse regering - ORG\n",
      "1 maart 2002 - DATE\n",
      "vlaamse - NORP\n",
      "1 maart - DATE\n",
      "30 juni 2021 - DATE\n",
      "5 - CARDINAL\n",
      "2019 - DATE\n",
      "2002 - DATE\n",
      "2002 - DATE\n",
      "commission paritaire des m taux - ORG\n",
      "30 juin - DATE\n"
     ]
    }
   ],
   "source": [
    "for entity in doc.ents:\n",
    "    print(f\"{entity.text} - {entity.label_}\")\n",
    "    "
   ]
  },
  {
   "cell_type": "code",
   "execution_count": 62,
   "metadata": {},
   "outputs": [],
   "source": [
    "from sumy.nlp.tokenizers import Tokenizer\n",
    "from sumy.summarizers.lsa import LsaSummarizer\n",
    "from sumy.nlp.stemmers import Stemmer\n",
    "from sumy.parsers.plaintext import PlaintextParser\n",
    "\n",
    "parser = PlaintextParser.from_string(text,Tokenizer(\"dutch\"))\n",
    "tokenizer = Tokenizer(\"dutch\")\n",
    "stemmer = Stemmer(\"dutch\")\n",
    "summarizer = LsaSummarizer(stemmer)"
   ]
  },
  {
   "cell_type": "code",
   "execution_count": 65,
   "metadata": {},
   "outputs": [
    {
     "name": "stdout",
     "output_type": "stream",
     "text": [
      "Paritair Comité voor de non-ferro metalen Collectieve arbeidsovereenkomst van 5 juli 2019\n",
      "Onverminderd de bestaande collectieve arbeidsovereenkomsten op ondernemingsvlak kan deze drempel op ondernemingsvlak bij collectieve arbeidsovereenkomst worden verhoogd tot maximum 4%, berekend in voltijdse equivalenten, van het aantal werklieden tewerkgesteld in de onderneming of de dienst zoals bedoeld in artikel 16 § 2 van de collectieve arbeidsovereenkomst nr. 103 op 30 juni van het jaar voorafgaand aan het jaar tijdens hetwelk de rechten gelijktijdig worden uitgeoefend.\n",
      "Op ondernemingsvlak is ter zake geen verdere afwijking mogelijk.\n",
      "Overeenkomstig artikel 4 § 5, 3) en 8 § 1, 1) van de collectieve arbeidsovereenkomst nr. 103 wordt het recht op 1/5e loopbaanvermindering uitgeoefend ten belope van 1 dag per week of 2 halve dagen per week.\n",
      "Bij collectieve arbeidsovereenkomst op ondernemingsvlak en vervolgens geïntegreerd in het arbeidsreglement; Of ingeval er geen vakbondsafvaardiging in de onderneming aanwezig is, bij arbeidsreglement mits daarover een wederzijds schriftelijk akkoord wordt gesloten tussen werknemer en werkgever.\n",
      "Organisatieregels 1/5e loopbaan- vermindering voor werklieden tewerkgesteld in ploegen of cycli.\n",
      "Wordt voor werklieden tewerkgesteld in ploegen of cycli een andere gelijkwaardige regeling overeengekomen overeenkomstig artikel 7 § 2 van de huidige collectieve arbeidsovereenkomst, dan moet de bestaande arbeidsorganisatie verder toegepast kunnen worden.\n",
      "GOUVERNEMENT FLAMAND DU 1er MARS 2002 En application de l'arrêté du Gouvernement flamand po au secteur privé du 1er mars 2002, les parties signa Commission paritaire des métaux non ferreux et occ- jusqu'au 30 juin 2021, des primes d'encouragement dar de la prime d'encouragement pour les travailleurs des er\n"
     ]
    }
   ],
   "source": [
    "for sentence in summarizer(parser.document,8):\n",
    "    print(sentence)"
   ]
  }
 ],
 "metadata": {
  "kernelspec": {
   "display_name": "kpmg",
   "language": "python",
   "name": "python3"
  },
  "language_info": {
   "codemirror_mode": {
    "name": "ipython",
    "version": 3
   },
   "file_extension": ".py",
   "mimetype": "text/x-python",
   "name": "python",
   "nbconvert_exporter": "python",
   "pygments_lexer": "ipython3",
   "version": "3.10.6 (main, Nov 14 2022, 16:10:14) [GCC 11.3.0]"
  },
  "orig_nbformat": 4,
  "vscode": {
   "interpreter": {
    "hash": "4da638ae617b673635fc85bede8239a246496b537a027ebfae526150a119a5ab"
   }
  }
 },
 "nbformat": 4,
 "nbformat_minor": 2
}
